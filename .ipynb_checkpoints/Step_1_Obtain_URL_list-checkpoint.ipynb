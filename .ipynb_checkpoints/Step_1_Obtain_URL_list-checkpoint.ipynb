{
 "cells": [
  {
   "cell_type": "code",
   "execution_count": 5,
   "metadata": {
    "collapsed": true
   },
   "outputs": [],
   "source": [
    "import csv\n",
    "import numpy as np\n",
    "import pandas as pd\n",
    "import pickle"
   ]
  },
  {
   "cell_type": "markdown",
   "metadata": {},
   "source": [
    "## Obtain list of URLs for patents from Google Patents"
   ]
  },
  {
   "cell_type": "markdown",
   "metadata": {},
   "source": [
    "I have searched for keyword \"autonomous vehicles\" in patents.google.com, and date-limited the search to patents filed in the US from the year 2012. The link to this search result is provided below."
   ]
  },
  {
   "cell_type": "markdown",
   "metadata": {},
   "source": [
    "https://patents.google.com/?q=autonomous+vehicles&country=US&after=priority:20120101"
   ]
  },
  {
   "cell_type": "code",
   "execution_count": 6,
   "metadata": {
    "collapsed": true
   },
   "outputs": [],
   "source": [
    "#I am loading the csv file generated in the patents.google.com website \n",
    "#I am  assigning column names \n",
    "df = pd.read_csv(\"autonom.csv\", sep = ',', names = ['id', 'title', 'assignee', \n",
    "                                                  'inventor/author','priority date',\n",
    "                                                  'filing/creation date', \n",
    "                                                  'publication date', 'grant date', \n",
    "                                                  'result link'])\n",
    "#The DataFrame contains two rows describing the csv\n",
    "#I am removing the two rows to prepare a clean DataFrame ready for analysis\n",
    "df = df[2:]\n",
    "df = df.reset_index(drop=True)"
   ]
  },
  {
   "cell_type": "code",
   "execution_count": 8,
   "metadata": {
    "collapsed": true
   },
   "outputs": [],
   "source": [
    "pickle.dump(df, open(\"autonom.p\", \"wb\"))"
   ]
  },
  {
   "cell_type": "code",
   "execution_count": 9,
   "metadata": {},
   "outputs": [
    {
     "data": {
      "text/plain": [
       "(975, 9)"
      ]
     },
     "execution_count": 9,
     "metadata": {},
     "output_type": "execute_result"
    }
   ],
   "source": [
    "df.shape"
   ]
  }
 ],
 "metadata": {
  "kernelspec": {
   "display_name": "Python 2",
   "language": "python",
   "name": "python2"
  },
  "language_info": {
   "codemirror_mode": {
    "name": "ipython",
    "version": 2
   },
   "file_extension": ".py",
   "mimetype": "text/x-python",
   "name": "python",
   "nbconvert_exporter": "python",
   "pygments_lexer": "ipython2",
   "version": "2.7.14"
  }
 },
 "nbformat": 4,
 "nbformat_minor": 2
}
