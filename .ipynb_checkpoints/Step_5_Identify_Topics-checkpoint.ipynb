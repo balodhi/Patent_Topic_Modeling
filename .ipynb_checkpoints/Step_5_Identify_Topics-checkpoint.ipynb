{
 "cells": [
  {
   "cell_type": "code",
   "execution_count": 3,
   "metadata": {},
   "outputs": [],
   "source": [
    "import numpy as np\n",
    "import matplotlib.pyplot as plt\n",
    "from sklearn.decomposition import LatentDirichletAllocation, NMF, TruncatedSVD\n",
    "from sklearn.feature_extraction.text import CountVectorizer, TfidfVectorizer\n",
    "import pandas as pd\n",
    "import pickle\n",
    "%matplotlib inline"
   ]
  },
  {
   "cell_type": "code",
   "execution_count": 4,
   "metadata": {
    "collapsed": true
   },
   "outputs": [],
   "source": [
    "df = pd.read_pickle(\"autonom_lemmatized.p\")"
   ]
  },
  {
   "cell_type": "code",
   "execution_count": 8,
   "metadata": {
    "collapsed": true
   },
   "outputs": [],
   "source": [
    "def print_top_words(model, feature_names, n_top_words):\n",
    "    for topic_idx, topic in enumerate(model.components_):\n",
    "        print(\"Topic #%d:\" % topic_idx)\n",
    "        print(\" \".join([feature_names[i]\n",
    "                        for i in topic.argsort()[:-n_top_words - 1:-1]]))\n",
    "    print()\n",
    "    \n",
    "    \n",
    "def modeler(corp, n_topics, n_top_words, clf, vect):\n",
    "    df = .80\n",
    "    str_vect = str(vect).split(\"(\")[0]\n",
    "    str_clf = str(clf).split(\"(\")[0]\n",
    "\n",
    "    print(\"Extracting {} features for {}...\".format(str_vect, str_clf))\n",
    "    vect_trans = vect.fit_transform(corp)\n",
    "\n",
    "\n",
    "    # Fit the model\n",
    "    print(\"Fitting the {} model with {} features, \"\n",
    "          \"n_topics= {}, n_topic_words= {}...\"\n",
    "          .format(str_clf, str_vect, n_topics, n_top_words))\n",
    "\n",
    "    clf = clf.fit(vect_trans)\n",
    "    if str_clf == \"TruncatedSVD\":\n",
    "        print(\"\\nExplained variance ratio\", clf.explained_variance_ratio_)\n",
    "        \n",
    "    print(\"\\nTopics in {} model:\".format(str_clf))\n",
    "    feature_names = vect.get_feature_names()\n",
    "    return print_top_words(clf, feature_names, n_top_words)"
   ]
  },
  {
   "cell_type": "code",
   "execution_count": 9,
   "metadata": {},
   "outputs": [
    {
     "name": "stdout",
     "output_type": "stream",
     "text": [
      "Extracting TfidfVectorizer features for NMF...\n",
      "Fitting the NMF model with TfidfVectorizer features, n_topics= 30, n_topic_words= 30...\n",
      "\n",
      "Topics in NMF model:\n",
      "Topic #0:\n",
      "datum receive map base indicative use region associate computer generate collect operation plurality relate parameter obtain assistance store communication environmental operate test time set subset obstacle correspond identify onboard processor\n",
      "Topic #1:\n",
      "steer torque angle command controller assist position wheel mechanism actuator track control input rack model column movement grip desire actual secondary generate value pinion module maneuver rear radius apply element\n",
      "Topic #2:\n",
      "image capture camera process portion receive digital feature display region color determine pixel identify base output detection area target identification intensity little analyze pair particular indicative correspond conjurer plurality illuminate\n",
      "Topic #3:\n",
      "park space area available spot maneuver movement assist select make end assistance target payment curb use geographic position guidance management location module plurality lot roadway identify activation procedure dsrc assign\n",
      "Topic #4:\n",
      "lane travel segment boundary computer roadway determine change road center distance unreliable unavailable control adjacent end shift turn confidence position rate yaw obstacle mark lateral current indicate host follow centerline\n",
      "Topic #5:\n",
      "drive driver behavior profile automate control preference section maneuver base display time situation self specific accord status detect assistance model characteristic determine arrangement module future autonomously determination start acquire condition\n",
      "Topic #6:\n",
      "trailer backup assist hitch controller input command parameter generate attach sense far curvature couple kinematic element yaw reverse base rotary height fail desire module instantaneous conjurer relationship processor tow length\n",
      "Topic #7:\n",
      "uav flight medical uavs land battery energy provision station support payload copter restrict unman dock target situation module location interface member navigate external harvest use package enable swap item area\n",
      "Topic #8:\n",
      "control input operation remote communication operator interface processor controller manual plurality host command level use movement receive automate condition instruction request response network assistance module perform driver communicate position plan\n",
      "Topic #9:\n",
      "location passenger request pick destination pickup client service suggest wait set receive drop particular time select delivery compute target transportation identify predetermine network stop transport determine aspect perform fleet associate\n",
      "Topic #10:\n",
      "mode operate operational manual driver transition switch controller select selection control time response seat computer determine confidence subsystem suspension property flight source force threshold insurance occupant non compartment policy command\n",
      "Topic #11:\n",
      "speed limit threshold rate maximum distance equal direction control determine buff adjust preference travel demand relative predetermine need high increase upper reduce slow suspension allow efficient reverse source timer section\n",
      "Topic #12:\n",
      "wheel axle rotate rear pair position steer airbag road tire actuator engine force slip assembly load component operation turn direction stow connect deploy angle seat member couple little angular reduce\n",
      "Topic #13:\n",
      "little condition parameter operate determine computer base subsystem process approach far estimate operation profile accord combination arrangement autonomously thereof action involve associate monitor distance plurality processor receive partially unavailable programme\n",
      "Topic #14:\n",
      "path position plan current travel collision mission follow predict curvature determine planner generate avoidance target base update desire application velocity modify center charge automate coordinate propose performance virtual waypoint receive\n",
      "Topic #15:\n",
      "signal traffic target radar output controller electromagnetic intersection receive reflect radiation distance determine process movement radio base transmit upcoming generate conjurer direction range position pedestrian area time communication far programme\n",
      "Topic #16:\n",
      "unit travel control detection basis propulsion rear assembly position value central couple section course set target precede main obtain electronic detector perform torque detect schedule calculate transmit context local wing\n",
      "Topic #17:\n",
      "trajectory representative follow computer function change generate represent assistance direction road track aspect particular baseline component obstacle geographic determine setpoint combine initial select space base event accord predetermine response candidate\n",
      "Topic #18:\n",
      "object detect determine maneuver collision dynamic model relative identify detection use predict relate compare obstruct behavior impinge position turn disclosure location type base pedestrian characteristic action area external nearby computer\n",
      "Topic #19:\n",
      "compute strategy construction zone road base modify likelihood control distance behavior instruction respective characteristic associate far determine detection sign estimate receive client value identify pixel 3d conjurer boundary cloud vicinity\n",
      "Topic #20:\n",
      "route destination transportation network origin cost identify candidate optimal travel plurality navigation distribution probability segment risk road generate area information action follow value associate base time indicate dock section item\n",
      "Topic #21:\n",
      "motor driver function electric relate carry travel area communication procedure surround strategy task wirelessly environmental gasoline assistance intervention coordination little position program intelligent plurality order use ascertain operate ego exist\n",
      "Topic #22:\n",
      "information map travel relate obtain use receive surround base report road frontward detect behavior display infrastructure detector driver generate traffic associate computer precipitation processor control monitor access future feature estimate\n",
      "Topic #23:\n",
      "state current value occupant determine driver base warn desire read monitor target predict traffic processor baseline level convoy performance transition interaction perform comparison combine illumination rear logic continuous attention modify\n",
      "Topic #24:\n",
      "aerial unman station flight task land grind charge autonomously rule perform platform delivery net battery portion onboard operate computer area attachment cable relate locate hook processor carry communication different payload\n",
      "Topic #25:\n",
      "environment travel laser sense determine display external cabin portion base conjurer weather unassociated view indication different indicative confidence untracked detect infer level indicate collect observe remote environmental outside operate type\n",
      "Topic #26:\n",
      "angle hitch rate warn yaw calculate offset controller time threshold change limit head base measure acceleration displacement correction exceed sense steer generate request great value physical relative lateral inclination module\n",
      "Topic #27:\n",
      "brake collision apply controller control host driver mechanism instruction maintain detect electronic operate service reverse arrange capable decelerate occur avoidance gear perform demand engagement initiate main rate force iii iv\n",
      "Topic #28:\n",
      "point laser cloud set target determine access surface spatial range scan position correspond head plurality weather lidar estimate altitude 3d location coordinate represent subset line time unassociated project comparison intensity\n",
      "Topic #29:\n",
      "light element scan pulse mirror pcb zone grip emitter emit direct lidar pattern surround measurement network incident open warn heat transmit indication reflective traffic mount ambient intersection reflect local associate\n",
      "()\n"
     ]
    }
   ],
   "source": [
    "modeler(df.text, 30, 30, NMF(n_components=30, random_state=1, alpha=.1, l1_ratio=.5), \\\n",
    "        TfidfVectorizer(max_df=.98, min_df=2,stop_words='english'))"
   ]
  }
 ],
 "metadata": {
  "kernelspec": {
   "display_name": "Python 2",
   "language": "python",
   "name": "python2"
  },
  "language_info": {
   "codemirror_mode": {
    "name": "ipython",
    "version": 2
   },
   "file_extension": ".py",
   "mimetype": "text/x-python",
   "name": "python",
   "nbconvert_exporter": "python",
   "pygments_lexer": "ipython2",
   "version": "2.7.14"
  }
 },
 "nbformat": 4,
 "nbformat_minor": 2
}
