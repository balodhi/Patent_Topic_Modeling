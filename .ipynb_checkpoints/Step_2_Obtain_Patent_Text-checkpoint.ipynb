{
 "cells": [
  {
   "cell_type": "code",
   "execution_count": 15,
   "metadata": {},
   "outputs": [
    {
     "name": "stdout",
     "output_type": "stream",
     "text": [
      "Requirement already satisfied: selenium in /Users/prescott/anaconda/lib/python2.7/site-packages\r\n"
     ]
    }
   ],
   "source": [
    "!pip install selenium\n",
    "import selenium\n",
    "from selenium import webdriver\n",
    "from time import sleep\n",
    "import pandas as pd\n",
    "import pickle"
   ]
  },
  {
   "cell_type": "markdown",
   "metadata": {},
   "source": [
    "## Scrape text for Abstracts using Selenium\n",
    "\n",
    "Within a patent, abstracts tend to be shorter and tend to contain the gist of what the patent is about. Such distilled information tend to be helpful for topic modeling as it means better results and less cleaning/text normalization."
   ]
  },
  {
   "cell_type": "code",
   "execution_count": 4,
   "metadata": {},
   "outputs": [],
   "source": [
    "df = pd.read_pickle(\"autonom.p\")"
   ]
  },
  {
   "cell_type": "code",
   "execution_count": 5,
   "metadata": {
    "collapsed": true
   },
   "outputs": [],
   "source": [
    "#I am assigning a variable 'urls' to the result link column \n",
    "#I will use the urls to scrape patent texts\n",
    "urls = df['result link'].tolist()"
   ]
  },
  {
   "cell_type": "markdown",
   "metadata": {},
   "source": [
    "I ran the text scraper twice here. For some reason when I run the for loop through the entire list of urls, I end up with a list of only one patent text. Here, I am scraping 975 pages."
   ]
  },
  {
   "cell_type": "code",
   "execution_count": 6,
   "metadata": {
    "collapsed": true
   },
   "outputs": [],
   "source": [
    "driver = webdriver.Chrome(\"/Users/prescott/Downloads/chromedriver\")\n",
    "pats = []\n",
    "for url in urls[:-1]:\n",
    "    driver.get(url)\n",
    "    description = driver.find_elements_by_xpath('//*[@id=\"abstract\"]')\n",
    "    for i in description:\n",
    "        pats.append(i.text)\n",
    "sleep(5)\n",
    "  \n",
    "driver.quit()"
   ]
  },
  {
   "cell_type": "code",
   "execution_count": 8,
   "metadata": {},
   "outputs": [],
   "source": [
    "driver = webdriver.Chrome(\"/Users/prescott/Downloads/chromedriver\")\n",
    "driver.get(urls[-1])\n",
    "description = driver.find_elements_by_xpath('//*[@id=\"abstract\"]')\n",
    "for i in description:\n",
    "    pats.append(i.text)\n",
    "  \n",
    "driver.quit()"
   ]
  },
  {
   "cell_type": "code",
   "execution_count": 9,
   "metadata": {},
   "outputs": [
    {
     "data": {
      "text/plain": [
       "True"
      ]
     },
     "execution_count": 9,
     "metadata": {},
     "output_type": "execute_result"
    }
   ],
   "source": [
    "len(pats) == len(df)"
   ]
  },
  {
   "cell_type": "markdown",
   "metadata": {},
   "source": [
    "### Append scraped text corpus to existing dataframe"
   ]
  },
  {
   "cell_type": "code",
   "execution_count": 10,
   "metadata": {
    "collapsed": true
   },
   "outputs": [],
   "source": [
    "df['text'] = pats"
   ]
  },
  {
   "cell_type": "markdown",
   "metadata": {},
   "source": [
    "Clean and change datatypes for Exploratory Data Analysis"
   ]
  },
  {
   "cell_type": "code",
   "execution_count": 11,
   "metadata": {
    "collapsed": true
   },
   "outputs": [],
   "source": [
    "df['priority date'] = pd.to_datetime(df['priority date'])\n",
    "df['filing/creation date'] = pd.to_datetime(df['filing/creation date'])\n",
    "df['publication date'] = pd.to_datetime(df['publication date'])\n",
    "df['grant date'] = pd.to_datetime(df['grant date'], errors = 'ignore')"
   ]
  },
  {
   "cell_type": "code",
   "execution_count": 12,
   "metadata": {
    "scrolled": true
   },
   "outputs": [
    {
     "data": {
      "text/html": [
       "<div>\n",
       "<style>\n",
       "    .dataframe thead tr:only-child th {\n",
       "        text-align: right;\n",
       "    }\n",
       "\n",
       "    .dataframe thead th {\n",
       "        text-align: left;\n",
       "    }\n",
       "\n",
       "    .dataframe tbody tr th {\n",
       "        vertical-align: top;\n",
       "    }\n",
       "</style>\n",
       "<table border=\"1\" class=\"dataframe\">\n",
       "  <thead>\n",
       "    <tr style=\"text-align: right;\">\n",
       "      <th></th>\n",
       "      <th>id</th>\n",
       "      <th>title</th>\n",
       "      <th>assignee</th>\n",
       "      <th>inventor/author</th>\n",
       "      <th>priority date</th>\n",
       "      <th>filing/creation date</th>\n",
       "      <th>publication date</th>\n",
       "      <th>grant date</th>\n",
       "      <th>result link</th>\n",
       "      <th>text</th>\n",
       "    </tr>\n",
       "  </thead>\n",
       "  <tbody>\n",
       "    <tr>\n",
       "      <th>357</th>\n",
       "      <td>US20160318490A1</td>\n",
       "      <td>Systems and methods for causing a vehicle resp...</td>\n",
       "      <td>Mobileye Vision Technologies Ltd.</td>\n",
       "      <td>Itai Ben Shalom</td>\n",
       "      <td>2015-04-28</td>\n",
       "      <td>2016-06-28</td>\n",
       "      <td>2016-11-03</td>\n",
       "      <td>NaT</td>\n",
       "      <td>https://patents.google.com/patent/US2016031849...</td>\n",
       "      <td>Abstract\\nA traffic light detection system for...</td>\n",
       "    </tr>\n",
       "  </tbody>\n",
       "</table>\n",
       "</div>"
      ],
      "text/plain": [
       "                  id                                              title  \\\n",
       "357  US20160318490A1  Systems and methods for causing a vehicle resp...   \n",
       "\n",
       "                              assignee  inventor/author priority date  \\\n",
       "357  Mobileye Vision Technologies Ltd.  Itai Ben Shalom    2015-04-28   \n",
       "\n",
       "    filing/creation date publication date grant date  \\\n",
       "357           2016-06-28       2016-11-03        NaT   \n",
       "\n",
       "                                           result link  \\\n",
       "357  https://patents.google.com/patent/US2016031849...   \n",
       "\n",
       "                                                  text  \n",
       "357  Abstract\\nA traffic light detection system for...  "
      ]
     },
     "execution_count": 12,
     "metadata": {},
     "output_type": "execute_result"
    }
   ],
   "source": [
    "df.sample()"
   ]
  },
  {
   "cell_type": "markdown",
   "metadata": {},
   "source": [
    "## Set index to patents' priority date"
   ]
  },
  {
   "cell_type": "code",
   "execution_count": 13,
   "metadata": {
    "collapsed": true
   },
   "outputs": [],
   "source": [
    "df.index = df['priority date']"
   ]
  },
  {
   "cell_type": "code",
   "execution_count": 14,
   "metadata": {},
   "outputs": [
    {
     "data": {
      "text/html": [
       "<div>\n",
       "<style>\n",
       "    .dataframe thead tr:only-child th {\n",
       "        text-align: right;\n",
       "    }\n",
       "\n",
       "    .dataframe thead th {\n",
       "        text-align: left;\n",
       "    }\n",
       "\n",
       "    .dataframe tbody tr th {\n",
       "        vertical-align: top;\n",
       "    }\n",
       "</style>\n",
       "<table border=\"1\" class=\"dataframe\">\n",
       "  <thead>\n",
       "    <tr style=\"text-align: right;\">\n",
       "      <th></th>\n",
       "      <th>id</th>\n",
       "      <th>title</th>\n",
       "      <th>assignee</th>\n",
       "      <th>inventor/author</th>\n",
       "      <th>priority date</th>\n",
       "      <th>filing/creation date</th>\n",
       "      <th>publication date</th>\n",
       "      <th>grant date</th>\n",
       "      <th>result link</th>\n",
       "      <th>text</th>\n",
       "    </tr>\n",
       "    <tr>\n",
       "      <th>priority date</th>\n",
       "      <th></th>\n",
       "      <th></th>\n",
       "      <th></th>\n",
       "      <th></th>\n",
       "      <th></th>\n",
       "      <th></th>\n",
       "      <th></th>\n",
       "      <th></th>\n",
       "      <th></th>\n",
       "      <th></th>\n",
       "    </tr>\n",
       "  </thead>\n",
       "  <tbody>\n",
       "    <tr>\n",
       "      <th>2012-03-15</th>\n",
       "      <td>US8457827B1</td>\n",
       "      <td>Modifying behavior of autonomous vehicle based...</td>\n",
       "      <td>Google Inc.</td>\n",
       "      <td>David I. Ferguson, Dmitri A. Dolgov</td>\n",
       "      <td>2012-03-15</td>\n",
       "      <td>2012-03-15</td>\n",
       "      <td>2013-06-04</td>\n",
       "      <td>2013-06-04</td>\n",
       "      <td>https://patents.google.com/patent/US8457827B1/en</td>\n",
       "      <td>Abstract\\nA vehicle configured to operate in a...</td>\n",
       "    </tr>\n",
       "    <tr>\n",
       "      <th>2014-03-03</th>\n",
       "      <td>US20150248131A1</td>\n",
       "      <td>Remote Assistance for Autonomous Vehicles in P...</td>\n",
       "      <td>Google Inc.</td>\n",
       "      <td>Nathaniel Fairfield, Joshua Seth Herbach, Vadi...</td>\n",
       "      <td>2014-03-03</td>\n",
       "      <td>2014-03-03</td>\n",
       "      <td>2015-09-03</td>\n",
       "      <td>NaT</td>\n",
       "      <td>https://patents.google.com/patent/US2015024813...</td>\n",
       "      <td>Abstract\\nExample systems and methods enable a...</td>\n",
       "    </tr>\n",
       "    <tr>\n",
       "      <th>2013-01-25</th>\n",
       "      <td>US20140214255A1</td>\n",
       "      <td>Modifying behavior of autonomous vehicles base...</td>\n",
       "      <td>Google Inc.</td>\n",
       "      <td>Dmitri A. Dolgov, Christopher Paul Urmson</td>\n",
       "      <td>2013-01-25</td>\n",
       "      <td>2013-01-25</td>\n",
       "      <td>2014-07-31</td>\n",
       "      <td>NaT</td>\n",
       "      <td>https://patents.google.com/patent/US2014021425...</td>\n",
       "      <td>Abstract\\nAspects of the present disclosure re...</td>\n",
       "    </tr>\n",
       "    <tr>\n",
       "      <th>2012-11-30</th>\n",
       "      <td>US8818608B2</td>\n",
       "      <td>Engaging and disengaging for autonomous driving</td>\n",
       "      <td>Google Inc.</td>\n",
       "      <td>Brian Cullinane, Philip Nemec, Manuel Christia...</td>\n",
       "      <td>2012-11-30</td>\n",
       "      <td>2013-12-03</td>\n",
       "      <td>2014-08-26</td>\n",
       "      <td>2014-08-26</td>\n",
       "      <td>https://patents.google.com/patent/US8818608B2/en</td>\n",
       "      <td>Abstract\\nAspects of the present disclosure re...</td>\n",
       "    </tr>\n",
       "    <tr>\n",
       "      <th>2014-05-23</th>\n",
       "      <td>US9194168B1</td>\n",
       "      <td>Unlock and authentication for autonomous vehic...</td>\n",
       "      <td>Google Inc.</td>\n",
       "      <td>David Tse-Zhou Lu, Calvin Karl Johnson, Renaud...</td>\n",
       "      <td>2014-05-23</td>\n",
       "      <td>2014-11-21</td>\n",
       "      <td>2015-11-24</td>\n",
       "      <td>2015-11-24</td>\n",
       "      <td>https://patents.google.com/patent/US9194168B1/en</td>\n",
       "      <td>Abstract\\nIn one aspect, a vehicle's computing...</td>\n",
       "    </tr>\n",
       "  </tbody>\n",
       "</table>\n",
       "</div>"
      ],
      "text/plain": [
       "                            id  \\\n",
       "priority date                    \n",
       "2012-03-15         US8457827B1   \n",
       "2014-03-03     US20150248131A1   \n",
       "2013-01-25     US20140214255A1   \n",
       "2012-11-30         US8818608B2   \n",
       "2014-05-23         US9194168B1   \n",
       "\n",
       "                                                           title     assignee  \\\n",
       "priority date                                                                   \n",
       "2012-03-15     Modifying behavior of autonomous vehicle based...  Google Inc.   \n",
       "2014-03-03     Remote Assistance for Autonomous Vehicles in P...  Google Inc.   \n",
       "2013-01-25     Modifying behavior of autonomous vehicles base...  Google Inc.   \n",
       "2012-11-30      Engaging and disengaging for autonomous driving   Google Inc.   \n",
       "2014-05-23     Unlock and authentication for autonomous vehic...  Google Inc.   \n",
       "\n",
       "                                                 inventor/author  \\\n",
       "priority date                                                      \n",
       "2012-03-15                   David I. Ferguson, Dmitri A. Dolgov   \n",
       "2014-03-03     Nathaniel Fairfield, Joshua Seth Herbach, Vadi...   \n",
       "2013-01-25             Dmitri A. Dolgov, Christopher Paul Urmson   \n",
       "2012-11-30     Brian Cullinane, Philip Nemec, Manuel Christia...   \n",
       "2014-05-23     David Tse-Zhou Lu, Calvin Karl Johnson, Renaud...   \n",
       "\n",
       "              priority date filing/creation date publication date grant date  \\\n",
       "priority date                                                                  \n",
       "2012-03-15       2012-03-15           2012-03-15       2013-06-04 2013-06-04   \n",
       "2014-03-03       2014-03-03           2014-03-03       2015-09-03        NaT   \n",
       "2013-01-25       2013-01-25           2013-01-25       2014-07-31        NaT   \n",
       "2012-11-30       2012-11-30           2013-12-03       2014-08-26 2014-08-26   \n",
       "2014-05-23       2014-05-23           2014-11-21       2015-11-24 2015-11-24   \n",
       "\n",
       "                                                     result link  \\\n",
       "priority date                                                      \n",
       "2012-03-15      https://patents.google.com/patent/US8457827B1/en   \n",
       "2014-03-03     https://patents.google.com/patent/US2015024813...   \n",
       "2013-01-25     https://patents.google.com/patent/US2014021425...   \n",
       "2012-11-30      https://patents.google.com/patent/US8818608B2/en   \n",
       "2014-05-23      https://patents.google.com/patent/US9194168B1/en   \n",
       "\n",
       "                                                            text  \n",
       "priority date                                                     \n",
       "2012-03-15     Abstract\\nA vehicle configured to operate in a...  \n",
       "2014-03-03     Abstract\\nExample systems and methods enable a...  \n",
       "2013-01-25     Abstract\\nAspects of the present disclosure re...  \n",
       "2012-11-30     Abstract\\nAspects of the present disclosure re...  \n",
       "2014-05-23     Abstract\\nIn one aspect, a vehicle's computing...  "
      ]
     },
     "execution_count": 14,
     "metadata": {},
     "output_type": "execute_result"
    }
   ],
   "source": [
    "df.head()"
   ]
  },
  {
   "cell_type": "code",
   "execution_count": 16,
   "metadata": {
    "collapsed": true
   },
   "outputs": [],
   "source": [
    "pickle.dump(df, open(\"autonom.p\", \"wb\"))"
   ]
  }
 ],
 "metadata": {
  "kernelspec": {
   "display_name": "Python 2",
   "language": "python",
   "name": "python2"
  },
  "language_info": {
   "codemirror_mode": {
    "name": "ipython",
    "version": 2
   },
   "file_extension": ".py",
   "mimetype": "text/x-python",
   "name": "python",
   "nbconvert_exporter": "python",
   "pygments_lexer": "ipython2",
   "version": "2.7.14"
  }
 },
 "nbformat": 4,
 "nbformat_minor": 2
}
